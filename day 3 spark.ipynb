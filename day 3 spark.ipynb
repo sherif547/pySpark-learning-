{
 "cells": [
  {
   "cell_type": "code",
   "execution_count": 106,
   "id": "a7ef95cf-a293-42e9-abf8-3cf1fcdced8c",
   "metadata": {},
   "outputs": [
    {
     "data": {
      "text/html": [
       "<style>pre { white-space: pre !important; }</style>"
      ],
      "text/plain": [
       "<IPython.core.display.HTML object>"
      ]
     },
     "metadata": {},
     "output_type": "display_data"
    }
   ],
   "source": [
    "from IPython.display import display, HTML\n",
    "display(HTML(\"<style>pre { white-space: pre !important; }</style>\"))"
   ]
  },
  {
   "cell_type": "code",
   "execution_count": 1,
   "id": "96a3bfbd-bae3-46eb-9421-13975786df90",
   "metadata": {},
   "outputs": [],
   "source": [
    "import findspark\n",
    "findspark.init()"
   ]
  },
  {
   "cell_type": "code",
   "execution_count": 2,
   "id": "ade9d455-6417-4e2a-b014-811532efcc38",
   "metadata": {},
   "outputs": [],
   "source": [
    "from pyspark.sql import SparkSession "
   ]
  },
  {
   "cell_type": "code",
   "execution_count": 3,
   "id": "ae49cc1e-4f7d-440e-8e3e-63e8cf8fdd28",
   "metadata": {},
   "outputs": [
    {
     "name": "stderr",
     "output_type": "stream",
     "text": [
      "25/03/18 20:20:29 WARN Utils: Your hostname, sherif-Virtual-Machine resolves to a loopback address: 127.0.1.1; using 172.29.81.158 instead (on interface eth0)\n",
      "25/03/18 20:20:29 WARN Utils: Set SPARK_LOCAL_IP if you need to bind to another address\n",
      "Setting default log level to \"WARN\".\n",
      "To adjust logging level use sc.setLogLevel(newLevel). For SparkR, use setLogLevel(newLevel).\n",
      "25/03/18 20:20:30 WARN NativeCodeLoader: Unable to load native-hadoop library for your platform... using builtin-java classes where applicable\n",
      "25/03/18 20:20:30 WARN Utils: Service 'SparkUI' could not bind on port 4040. Attempting port 4041.\n"
     ]
    }
   ],
   "source": [
    "spark=SparkSession.builder.getOrCreate()"
   ]
  },
  {
   "cell_type": "code",
   "execution_count": 5,
   "id": "9a741d22-4a9e-4f5f-8f19-11c5d47e7c79",
   "metadata": {},
   "outputs": [],
   "source": [
    "sc=spark.sparkContext"
   ]
  },
  {
   "cell_type": "code",
   "execution_count": 32,
   "id": "1f7117c9-828f-4774-9ad6-d9d2a064ff8b",
   "metadata": {},
   "outputs": [],
   "source": [
    "data=([('Sherif',23),('Shahoda',22),('ahmed',25),('reem',22),('Sherif',22),('Shahoda',20),\n",
    "     ('ahmed',18),('sherif',30)])\n",
    "col=['name','age']"
   ]
  },
  {
   "cell_type": "code",
   "execution_count": 33,
   "id": "69a68402-004b-4bc0-a351-ac7e362a3c18",
   "metadata": {},
   "outputs": [],
   "source": [
    "rdd0=sc.parallelize(data)"
   ]
  },
  {
   "cell_type": "code",
   "execution_count": 34,
   "id": "136381fd-bada-498a-8f87-3306f26ce298",
   "metadata": {},
   "outputs": [
    {
     "data": {
      "text/plain": [
       "[('Sherif', 23),\n",
       " ('Shahoda', 22),\n",
       " ('ahmed', 25),\n",
       " ('reem', 22),\n",
       " ('Sherif', 22),\n",
       " ('Shahoda', 20),\n",
       " ('ahmed', 18),\n",
       " ('sherif', 30)]"
      ]
     },
     "execution_count": 34,
     "metadata": {},
     "output_type": "execute_result"
    }
   ],
   "source": [
    "rdd0.collect()"
   ]
  },
  {
   "cell_type": "markdown",
   "id": "f58f3eb0-cc54-4004-b493-36f169e7003d",
   "metadata": {},
   "source": [
    "### data Frame .create"
   ]
  },
  {
   "cell_type": "code",
   "execution_count": 35,
   "id": "5d399f76-fc69-4d40-af53-ecbd54595c74",
   "metadata": {},
   "outputs": [],
   "source": [
    "df=spark.createDataFrame(data,col)"
   ]
  },
  {
   "cell_type": "code",
   "execution_count": 36,
   "id": "af15729b-73cd-4fa8-82ff-7ae91c8e4593",
   "metadata": {},
   "outputs": [
    {
     "name": "stdout",
     "output_type": "stream",
     "text": [
      "+-------+---+\n",
      "|   name|age|\n",
      "+-------+---+\n",
      "| Sherif| 23|\n",
      "|Shahoda| 22|\n",
      "|  ahmed| 25|\n",
      "|   reem| 22|\n",
      "| Sherif| 22|\n",
      "|Shahoda| 20|\n",
      "|  ahmed| 18|\n",
      "| sherif| 30|\n",
      "+-------+---+\n",
      "\n"
     ]
    }
   ],
   "source": [
    "df.show()"
   ]
  },
  {
   "cell_type": "code",
   "execution_count": 37,
   "id": "c7eff28f-49f1-4287-b401-2fb47099b021",
   "metadata": {},
   "outputs": [
    {
     "name": "stdout",
     "output_type": "stream",
     "text": [
      "root\n",
      " |-- name: string (nullable = true)\n",
      " |-- age: long (nullable = true)\n",
      "\n"
     ]
    }
   ],
   "source": [
    "df.printSchema()"
   ]
  },
  {
   "cell_type": "code",
   "execution_count": 39,
   "id": "03fbbd56-9baa-4595-964a-91976f3bf2aa",
   "metadata": {},
   "outputs": [],
   "source": [
    "avg_age=df.groupby('name').avg('age')"
   ]
  },
  {
   "cell_type": "code",
   "execution_count": 40,
   "id": "27cb8149-0df6-4cff-8b2e-45094fb3ce3a",
   "metadata": {},
   "outputs": [
    {
     "name": "stdout",
     "output_type": "stream",
     "text": [
      "+-------+--------+\n",
      "|   name|avg(age)|\n",
      "+-------+--------+\n",
      "| Sherif|    22.5|\n",
      "|Shahoda|    21.0|\n",
      "|  ahmed|    21.5|\n",
      "|   reem|    22.0|\n",
      "| sherif|    30.0|\n",
      "+-------+--------+\n",
      "\n"
     ]
    }
   ],
   "source": [
    "avg_age.show()"
   ]
  },
  {
   "cell_type": "code",
   "execution_count": 41,
   "id": "4120b53b-d260-4a33-b06d-e75763f7244a",
   "metadata": {},
   "outputs": [
    {
     "data": {
      "text/plain": [
       "1"
      ]
     },
     "execution_count": 41,
     "metadata": {},
     "output_type": "execute_result"
    }
   ],
   "source": [
    "avg_age.rdd.getNumPartitions()"
   ]
  },
  {
   "cell_type": "markdown",
   "id": "8e56b783-9d0c-494f-afc2-cd16ebfb42cc",
   "metadata": {},
   "source": [
    "### use sql function and agg\n"
   ]
  },
  {
   "cell_type": "code",
   "execution_count": 42,
   "id": "06707196-30bb-4cbe-9987-bf7399bd4e76",
   "metadata": {},
   "outputs": [],
   "source": [
    "from pyspark.sql.functions import avg"
   ]
  },
  {
   "cell_type": "code",
   "execution_count": 43,
   "id": "2a59f1a2-695b-459b-8eec-e936e2e8ae06",
   "metadata": {},
   "outputs": [],
   "source": [
    "df_avg_age=df.groupby('name').agg(avg('age').alias('Avg_age'))"
   ]
  },
  {
   "cell_type": "code",
   "execution_count": 44,
   "id": "fe58b416-a891-428b-a270-7b7178fa6557",
   "metadata": {},
   "outputs": [
    {
     "name": "stdout",
     "output_type": "stream",
     "text": [
      "+-------+-------+\n",
      "|   name|Avg_age|\n",
      "+-------+-------+\n",
      "| Sherif|   22.5|\n",
      "|Shahoda|   21.0|\n",
      "|  ahmed|   21.5|\n",
      "|   reem|   22.0|\n",
      "| sherif|   30.0|\n",
      "+-------+-------+\n",
      "\n"
     ]
    }
   ],
   "source": [
    "df_avg_age.show()"
   ]
  },
  {
   "cell_type": "code",
   "execution_count": 45,
   "id": "856e8889-07a5-4b62-ae45-9febcba91634",
   "metadata": {},
   "outputs": [
    {
     "name": "stdout",
     "output_type": "stream",
     "text": [
      "root\n",
      " |-- name: string (nullable = true)\n",
      " |-- Avg_age: double (nullable = true)\n",
      "\n"
     ]
    }
   ],
   "source": [
    "df_avg_age.printSchema()"
   ]
  },
  {
   "cell_type": "markdown",
   "id": "d49c1811-4780-46d4-b4d8-60def827c764",
   "metadata": {},
   "source": [
    "### read json file"
   ]
  },
  {
   "cell_type": "code",
   "execution_count": 49,
   "id": "2ea2df22-4563-4d89-9773-b55ed63f3f2b",
   "metadata": {},
   "outputs": [],
   "source": [
    "data=spark.read.json('people.json')"
   ]
  },
  {
   "cell_type": "code",
   "execution_count": 50,
   "id": "1bed3aff-16eb-4028-9e6b-05409d78d470",
   "metadata": {},
   "outputs": [
    {
     "name": "stdout",
     "output_type": "stream",
     "text": [
      "+----+-------+\n",
      "| age|   name|\n",
      "+----+-------+\n",
      "|NULL|Michael|\n",
      "|  30|   Andy|\n",
      "|  19| Justin|\n",
      "+----+-------+\n",
      "\n"
     ]
    }
   ],
   "source": [
    "data.show()"
   ]
  },
  {
   "cell_type": "code",
   "execution_count": 51,
   "id": "0b4b181c-71e2-49c2-8e66-7da02d8ec5c0",
   "metadata": {},
   "outputs": [
    {
     "name": "stdout",
     "output_type": "stream",
     "text": [
      "root\n",
      " |-- name: string (nullable = true)\n",
      " |-- age: long (nullable = true)\n",
      "\n"
     ]
    }
   ],
   "source": [
    "df.printSchema()"
   ]
  },
  {
   "cell_type": "code",
   "execution_count": 52,
   "id": "c1644387-2c2e-4a18-857e-ae9dd5c2aea2",
   "metadata": {},
   "outputs": [
    {
     "data": {
      "text/plain": [
       "Column<'name'>"
      ]
     },
     "execution_count": 52,
     "metadata": {},
     "output_type": "execute_result"
    }
   ],
   "source": [
    "df['name']"
   ]
  },
  {
   "cell_type": "markdown",
   "id": "315d58e0-717f-4ad0-be22-c46a99fa2464",
   "metadata": {},
   "source": [
    "### sql operations\n"
   ]
  },
  {
   "cell_type": "code",
   "execution_count": 53,
   "id": "1833ab37-f9ea-43d2-a553-72b6bd396bc4",
   "metadata": {},
   "outputs": [],
   "source": [
    "df_name=df.select('name')"
   ]
  },
  {
   "cell_type": "code",
   "execution_count": 54,
   "id": "f20008f0-2627-4d04-b9db-6a8dd79bea5e",
   "metadata": {},
   "outputs": [
    {
     "data": {
      "text/plain": [
       "DataFrame[name: string]"
      ]
     },
     "execution_count": 54,
     "metadata": {},
     "output_type": "execute_result"
    }
   ],
   "source": [
    "df_name"
   ]
  },
  {
   "cell_type": "code",
   "execution_count": 55,
   "id": "157776f8-8841-403d-a414-45b195b1b61b",
   "metadata": {},
   "outputs": [
    {
     "name": "stdout",
     "output_type": "stream",
     "text": [
      "root\n",
      " |-- name: string (nullable = true)\n",
      " |-- age: long (nullable = true)\n",
      "\n"
     ]
    }
   ],
   "source": [
    "df.printSchema()"
   ]
  },
  {
   "cell_type": "code",
   "execution_count": 56,
   "id": "396fe65c-2a62-43dd-bcd4-6faa0da98efe",
   "metadata": {},
   "outputs": [
    {
     "name": "stdout",
     "output_type": "stream",
     "text": [
      "+-------+---+\n",
      "|   name|age|\n",
      "+-------+---+\n",
      "| Sherif| 23|\n",
      "|Shahoda| 22|\n",
      "|  ahmed| 25|\n",
      "|   reem| 22|\n",
      "| Sherif| 22|\n",
      "|Shahoda| 20|\n",
      "|  ahmed| 18|\n",
      "| sherif| 30|\n",
      "+-------+---+\n",
      "\n"
     ]
    }
   ],
   "source": [
    "df.show()"
   ]
  },
  {
   "cell_type": "markdown",
   "id": "33f619d1-6df1-47ac-8ef5-00c2c3811de6",
   "metadata": {},
   "source": [
    "#### where cluase"
   ]
  },
  {
   "cell_type": "code",
   "execution_count": 59,
   "id": "4578c1ac-7888-4434-b8e0-0d4552b6969c",
   "metadata": {},
   "outputs": [
    {
     "name": "stdout",
     "output_type": "stream",
     "text": [
      "+---+\n",
      "|age|\n",
      "+---+\n",
      "| 23|\n",
      "| 22|\n",
      "| 25|\n",
      "| 22|\n",
      "| 22|\n",
      "| 20|\n",
      "| 18|\n",
      "| 30|\n",
      "+---+\n",
      "\n"
     ]
    }
   ],
   "source": [
    "df_age=df.select('age')\n",
    "df_age.show()"
   ]
  },
  {
   "cell_type": "code",
   "execution_count": 62,
   "id": "1c3b73f1-99d5-479b-93be-46ccdb25d18b",
   "metadata": {},
   "outputs": [],
   "source": [
    "from pyspark.sql.functions import col"
   ]
  },
  {
   "cell_type": "code",
   "execution_count": 66,
   "id": "de1edb80-3f13-4928-97bc-169453b494e1",
   "metadata": {
    "scrolled": true
   },
   "outputs": [
    {
     "name": "stdout",
     "output_type": "stream",
     "text": [
      "+---+\n",
      "|age|\n",
      "+---+\n",
      "| 23|\n",
      "| 22|\n",
      "| 25|\n",
      "| 22|\n",
      "| 22|\n",
      "| 30|\n",
      "+---+\n",
      "\n"
     ]
    }
   ],
   "source": [
    "adult=df_age.where(col('age')>20)\n",
    "adult.show()"
   ]
  },
  {
   "cell_type": "code",
   "execution_count": null,
   "id": "bce5afe7-5db5-4309-b719-ca67c0388304",
   "metadata": {},
   "outputs": [],
   "source": []
  },
  {
   "cell_type": "code",
   "execution_count": 67,
   "id": "b3e8332d-430b-4240-8143-8278acf1ece0",
   "metadata": {},
   "outputs": [],
   "source": [
    "from pyspark.sql.functions import *\n",
    "import pyspark.sql.functions as fn"
   ]
  },
  {
   "cell_type": "code",
   "execution_count": null,
   "id": "99c27af2-fb7c-453b-9211-a1b8fd593801",
   "metadata": {},
   "outputs": [],
   "source": []
  },
  {
   "cell_type": "code",
   "execution_count": 68,
   "id": "51c86ad2-e052-4c64-a374-5b6ba5aea5a8",
   "metadata": {},
   "outputs": [
    {
     "name": "stdout",
     "output_type": "stream",
     "text": [
      "+-------+---+\n",
      "|   name|age|\n",
      "+-------+---+\n",
      "| Sherif| 23|\n",
      "|Shahoda| 22|\n",
      "|  ahmed| 25|\n",
      "|   reem| 22|\n",
      "| Sherif| 22|\n",
      "|Shahoda| 20|\n",
      "|  ahmed| 18|\n",
      "| sherif| 30|\n",
      "+-------+---+\n",
      "\n"
     ]
    }
   ],
   "source": [
    "df.show()"
   ]
  },
  {
   "cell_type": "code",
   "execution_count": 70,
   "id": "db972ef1-cae1-48d1-a127-772f2176ce22",
   "metadata": {},
   "outputs": [
    {
     "name": "stdout",
     "output_type": "stream",
     "text": [
      "+-------+--------+\n",
      "|   name|avg(age)|\n",
      "+-------+--------+\n",
      "| Sherif|    22.5|\n",
      "|Shahoda|    21.0|\n",
      "|  ahmed|    21.5|\n",
      "|   reem|    22.0|\n",
      "| sherif|    30.0|\n",
      "+-------+--------+\n",
      "\n"
     ]
    }
   ],
   "source": [
    "df.groupby('name').avg('age').show()"
   ]
  },
  {
   "cell_type": "markdown",
   "id": "94eaabd5-2ecd-4d66-afad-6b7adab99f57",
   "metadata": {},
   "source": [
    "#### using aggeragiation fun and use alias"
   ]
  },
  {
   "cell_type": "code",
   "execution_count": 72,
   "id": "c14cb1fa-4335-4d39-9255-dae165062dfe",
   "metadata": {},
   "outputs": [
    {
     "name": "stdout",
     "output_type": "stream",
     "text": [
      "+-------+-----------+\n",
      "|   name|Average age|\n",
      "+-------+-----------+\n",
      "| Sherif|       22.5|\n",
      "|Shahoda|       21.0|\n",
      "|  ahmed|       21.5|\n",
      "|   reem|       22.0|\n",
      "| sherif|       30.0|\n",
      "+-------+-----------+\n",
      "\n"
     ]
    }
   ],
   "source": [
    "df.groupby('name').agg(fn.avg('age').alias('Average age')).show()"
   ]
  },
  {
   "cell_type": "markdown",
   "id": "1f931125-a56f-4fb2-9ed5-4c329083ffee",
   "metadata": {},
   "source": [
    "### we use agg function to integrate many agregiation function"
   ]
  },
  {
   "cell_type": "code",
   "execution_count": 74,
   "id": "45d280af-b7ce-4b61-bc0f-9fea7c015645",
   "metadata": {},
   "outputs": [
    {
     "name": "stdout",
     "output_type": "stream",
     "text": [
      "+-------+-----------+------------+\n",
      "|   name|Average age|sum_all_ages|\n",
      "+-------+-----------+------------+\n",
      "| Sherif|       22.5|          45|\n",
      "|Shahoda|       21.0|          42|\n",
      "|  ahmed|       21.5|          43|\n",
      "|   reem|       22.0|          22|\n",
      "| sherif|       30.0|          30|\n",
      "+-------+-----------+------------+\n",
      "\n"
     ]
    }
   ],
   "source": [
    "df.groupby('name').agg(fn.avg('age').alias('Average age'),\n",
    "                       sum('age').alias('sum_all_ages')).show()"
   ]
  },
  {
   "cell_type": "markdown",
   "id": "c014881e-7c59-4265-a956-611e019bd108",
   "metadata": {},
   "source": [
    "### save dataframe in cache"
   ]
  },
  {
   "cell_type": "code",
   "execution_count": 75,
   "id": "d6e704be-eb0a-45f3-841e-30d8cbd89288",
   "metadata": {},
   "outputs": [
    {
     "data": {
      "text/plain": [
       "DataFrame[name: string, age: bigint]"
      ]
     },
     "execution_count": 75,
     "metadata": {},
     "output_type": "execute_result"
    }
   ],
   "source": [
    "df.persist()"
   ]
  },
  {
   "cell_type": "markdown",
   "id": "353a777d-b0b0-4428-983a-814614afc7c0",
   "metadata": {},
   "source": [
    "``` now data is more faster in access ```"
   ]
  },
  {
   "cell_type": "markdown",
   "id": "3bf2ebc3-200a-46f9-b98e-0e901b5a55ad",
   "metadata": {},
   "source": [
    "#### sorting"
   ]
  },
  {
   "cell_type": "code",
   "execution_count": 79,
   "id": "91248060-e418-40c0-bd75-ac3aecc31a12",
   "metadata": {},
   "outputs": [
    {
     "name": "stdout",
     "output_type": "stream",
     "text": [
      "+-------+---+\n",
      "|   name|age|\n",
      "+-------+---+\n",
      "|  ahmed| 18|\n",
      "|Shahoda| 20|\n",
      "|Shahoda| 22|\n",
      "| Sherif| 22|\n",
      "|   reem| 22|\n",
      "| Sherif| 23|\n",
      "|  ahmed| 25|\n",
      "| sherif| 30|\n",
      "+-------+---+\n",
      "\n"
     ]
    }
   ],
   "source": [
    "sorting_df=df.sort('age')\n",
    "sorting_df.show()"
   ]
  },
  {
   "cell_type": "code",
   "execution_count": null,
   "id": "1e27d70f-fcaa-4bb4-a45f-50075b0f7639",
   "metadata": {},
   "outputs": [],
   "source": []
  },
  {
   "cell_type": "code",
   "execution_count": null,
   "id": "e4dce495-0ae0-47f9-9ba9-b1e740927538",
   "metadata": {},
   "outputs": [],
   "source": []
  },
  {
   "cell_type": "markdown",
   "id": "7ab5720b-b990-4d6f-b0c9-e9ffadce431b",
   "metadata": {},
   "source": [
    "### create specific schema"
   ]
  },
  {
   "cell_type": "code",
   "execution_count": 88,
   "id": "e5d9cd7d-b5c1-4508-8979-713d50aa03e4",
   "metadata": {},
   "outputs": [],
   "source": [
    "from pyspark.sql.types import *"
   ]
  },
  {
   "cell_type": "code",
   "execution_count": 93,
   "id": "e3e9759b-d451-4915-900f-526a36a9cd54",
   "metadata": {},
   "outputs": [],
   "source": [
    "my_schema = StructType([\n",
    "    StructField('FName', StringType(), False),  # First Name (String, Not Nullable)\n",
    "    StructField('LName', StringType(), True),    # Last Name (String, Nullable)\n",
    "    StructField('Age', IntegerType(), False),   # Age (Integer, Not Nullable)\n",
    "    StructField('Address', StringType(), False),# Address (String, Not Nullable)\n",
    "    StructField('Gender', StringType(), False)  # Gender (String, Not Nullable)\n",
    "])"
   ]
  },
  {
   "cell_type": "markdown",
   "id": "4571e23f-da92-4d9f-aad0-b55a61c244c2",
   "metadata": {},
   "source": [
    "#### create fake data"
   ]
  },
  {
   "cell_type": "code",
   "execution_count": 94,
   "id": "cf80de8f-ea90-494d-beaa-0984b3575db4",
   "metadata": {},
   "outputs": [
    {
     "name": "stdout",
     "output_type": "stream",
     "text": [
      "Collecting faker\n",
      "  Downloading faker-37.0.1-py3-none-any.whl.metadata (15 kB)\n",
      "Requirement already satisfied: tzdata in ./anaconda3/lib/python3.12/site-packages (from faker) (2023.3)\n",
      "Downloading faker-37.0.1-py3-none-any.whl (1.9 MB)\n",
      "\u001b[2K   \u001b[38;2;114;156;31m━━━━━━━━━━━━━━━━━━━━━━━━━━━━━━━━━━━━━━━━\u001b[0m \u001b[32m1.9/1.9 MB\u001b[0m \u001b[31m6.1 MB/s\u001b[0m eta \u001b[36m0:00:00\u001b[0m[31m6.9 MB/s\u001b[0m eta \u001b[36m0:00:01\u001b[0m\n",
      "\u001b[?25hInstalling collected packages: faker\n",
      "Successfully installed faker-37.0.1\n"
     ]
    }
   ],
   "source": [
    "#!pip install faker"
   ]
  },
  {
   "cell_type": "code",
   "execution_count": 103,
   "id": "99f623ab-ceb7-4a9a-866c-e5e01a142f4b",
   "metadata": {},
   "outputs": [],
   "source": [
    "from faker import Faker\n",
    "fake=Faker()\n",
    "\n",
    "data=[]\n",
    "\n",
    "for _ in range(50):  #create 50 sample of th data\n",
    "    first_name=fake.first_name()\n",
    "    last_name=fake.last_name()\n",
    "    age=fake.random_int(min=18,max=65) ## create random age between 18 and 65\n",
    "    address=fake.address().replace('\\n',', ') ## replace new line with comma\n",
    "    gender=fake.random_element(elements=('M','F'))\n",
    "\n",
    "    data.append((first_name,last_name,age,address,gender))"
   ]
  },
  {
   "cell_type": "code",
   "execution_count": 104,
   "id": "cd06e543-d100-4a1f-a4ee-73dea07d94e3",
   "metadata": {},
   "outputs": [],
   "source": [
    "ex_data=spark.createDataFrame(data,my_schema)"
   ]
  },
  {
   "cell_type": "code",
   "execution_count": 107,
   "id": "7efd404e-a660-4738-a2e3-eb5a454351ee",
   "metadata": {},
   "outputs": [
    {
     "name": "stdout",
     "output_type": "stream",
     "text": [
      "+---------+--------+---+--------------------+------+\n",
      "|    FName|   LName|Age|             Address|Gender|\n",
      "+---------+--------+---+--------------------+------+\n",
      "|    Bryan|Cisneros| 34|5589 Long Ways, W...|     M|\n",
      "|    Karen|  Hanson| 46|6654 Marc Ridge, ...|     M|\n",
      "|     Mary| Mcguire| 35|98738 Wilson Esta...|     M|\n",
      "|   Johnny|   Hayes| 49|014 Hayden Passag...|     F|\n",
      "|Katherine|  Morris| 56|46140 Michelle St...|     F|\n",
      "| Samantha|     Kim| 52|263 Harold Grove ...|     F|\n",
      "|   Teresa|  Vargas| 25|26365 Coleman Par...|     F|\n",
      "|  Anthony|   Meyer| 21|370 Petty Grove, ...|     F|\n",
      "| Margaret|  Austin| 62|06839 Kathryn Tra...|     F|\n",
      "|    Jorge|    Cruz| 29|32825 Powell Rive...|     F|\n",
      "|    Peter|   Bowen| 63|389 Carmen Keys, ...|     F|\n",
      "|    Tammy|  Austin| 57|96681 Tammy Rue, ...|     M|\n",
      "|    Emily|  Butler| 41|0980 Stephanie Hi...|     M|\n",
      "|    Craig|   Ramos| 26|0305 Matthew Exte...|     M|\n",
      "|   Laurie|Williams| 53|01156 Nicole Cent...|     F|\n",
      "| Brittany| Marquez| 60|249 David View, T...|     F|\n",
      "|    Scott|    Lamb| 25|Unit 8739 Box 337...|     M|\n",
      "|   Austin|  Kramer| 24|53854 Angela Isla...|     M|\n",
      "|  Richard| Russell| 28|15663 Adkins Rive...|     F|\n",
      "| Jennifer|   Evans| 52|87953 Michaela Ke...|     F|\n",
      "+---------+--------+---+--------------------+------+\n",
      "only showing top 20 rows\n",
      "\n"
     ]
    }
   ],
   "source": [
    "ex_data.show()"
   ]
  },
  {
   "cell_type": "code",
   "execution_count": 129,
   "id": "b57b14fa-dcbd-4559-b804-2fdc1a6c54c4",
   "metadata": {},
   "outputs": [
    {
     "name": "stdout",
     "output_type": "stream",
     "text": [
      "root\n",
      " |-- FName: string (nullable = false)\n",
      " |-- LName: string (nullable = true)\n",
      " |-- Age: integer (nullable = false)\n",
      " |-- Address: string (nullable = false)\n",
      " |-- Gender: string (nullable = false)\n",
      "\n"
     ]
    }
   ],
   "source": [
    "ex_data.printSchema()"
   ]
  },
  {
   "cell_type": "code",
   "execution_count": 130,
   "id": "11065cb7-518d-4ae4-a9b0-1fdc62bc5414",
   "metadata": {},
   "outputs": [
    {
     "data": {
      "text/plain": [
       "<bound method DataFrame.cache of DataFrame[FName: string, LName: string, Age: int, Address: string, Gender: string]>"
      ]
     },
     "execution_count": 130,
     "metadata": {},
     "output_type": "execute_result"
    }
   ],
   "source": [
    "ex_data.cache"
   ]
  },
  {
   "cell_type": "code",
   "execution_count": 133,
   "id": "f5692948-6c66-4c31-805b-97b2285bc0e2",
   "metadata": {},
   "outputs": [
    {
     "name": "stdout",
     "output_type": "stream",
     "text": [
      "+----------+\n",
      "|(Age * 10)|\n",
      "+----------+\n",
      "|       340|\n",
      "|       460|\n",
      "|       350|\n",
      "|       490|\n",
      "|       560|\n",
      "+----------+\n",
      "only showing top 5 rows\n",
      "\n"
     ]
    }
   ],
   "source": [
    "dfx1=ex_data.select(col('Age')*10)\n",
    "dfx1.show(5)"
   ]
  },
  {
   "cell_type": "code",
   "execution_count": 138,
   "id": "59f95da2-f100-4874-9a4b-75667d415f3e",
   "metadata": {},
   "outputs": [
    {
     "name": "stdout",
     "output_type": "stream",
     "text": [
      "+------+\n",
      "|_10age|\n",
      "+------+\n",
      "|   340|\n",
      "|   460|\n",
      "|   350|\n",
      "|   490|\n",
      "|   560|\n",
      "+------+\n",
      "only showing top 5 rows\n",
      "\n"
     ]
    }
   ],
   "source": [
    "## or \n",
    "dfx2=ex_data.select(expr('Age *10').alias('_10age'))\n",
    "dfx2.show(5)"
   ]
  },
  {
   "cell_type": "code",
   "execution_count": null,
   "id": "48b2eb69-ebac-4f7d-a90e-5eae5a237b92",
   "metadata": {},
   "outputs": [],
   "source": []
  },
  {
   "cell_type": "markdown",
   "id": "16cc3b4b-109c-4a86-baeb-b2bd72ac786f",
   "metadata": {},
   "source": [
    "### create new columns"
   ]
  },
  {
   "cell_type": "code",
   "execution_count": 143,
   "id": "9c55a9f8-3ec8-464e-9f00-59d102147d5d",
   "metadata": {},
   "outputs": [
    {
     "name": "stdout",
     "output_type": "stream",
     "text": [
      "+---------+--------+---+--------------------+------+------------+\n",
      "|    FName|   LName|Age|             Address|Gender|adult_or_not|\n",
      "+---------+--------+---+--------------------+------+------------+\n",
      "|    Bryan|Cisneros| 34|5589 Long Ways, W...|     M|       false|\n",
      "|    Karen|  Hanson| 46|6654 Marc Ridge, ...|     M|       false|\n",
      "|     Mary| Mcguire| 35|98738 Wilson Esta...|     M|       false|\n",
      "|   Johnny|   Hayes| 49|014 Hayden Passag...|     F|       false|\n",
      "|Katherine|  Morris| 56|46140 Michelle St...|     F|       false|\n",
      "| Samantha|     Kim| 52|263 Harold Grove ...|     F|       false|\n",
      "|   Teresa|  Vargas| 25|26365 Coleman Par...|     F|        true|\n",
      "|  Anthony|   Meyer| 21|370 Petty Grove, ...|     F|        true|\n",
      "| Margaret|  Austin| 62|06839 Kathryn Tra...|     F|       false|\n",
      "|    Jorge|    Cruz| 29|32825 Powell Rive...|     F|        true|\n",
      "+---------+--------+---+--------------------+------+------------+\n",
      "only showing top 10 rows\n",
      "\n"
     ]
    }
   ],
   "source": [
    "dfx3=ex_data.withColumn('adult_or_not',col('Age')<30)\n",
    "dfx3.show(10)"
   ]
  },
  {
   "cell_type": "markdown",
   "id": "a165c491-e9e1-4caf-8737-bf1343c5f38f",
   "metadata": {},
   "source": [
    "### concate "
   ]
  },
  {
   "cell_type": "code",
   "execution_count": 146,
   "id": "56db9fa7-c28c-46b9-a3d0-580f08aa6ee9",
   "metadata": {},
   "outputs": [
    {
     "name": "stdout",
     "output_type": "stream",
     "text": [
      "+---------+--------+---+--------------------+------+----------------+\n",
      "|    FName|   LName|Age|             Address|Gender|       Full_name|\n",
      "+---------+--------+---+--------------------+------+----------------+\n",
      "|    Bryan|Cisneros| 34|5589 Long Ways, W...|     M|  Bryan Cisneros|\n",
      "|    Karen|  Hanson| 46|6654 Marc Ridge, ...|     M|    Karen Hanson|\n",
      "|     Mary| Mcguire| 35|98738 Wilson Esta...|     M|    Mary Mcguire|\n",
      "|   Johnny|   Hayes| 49|014 Hayden Passag...|     F|    Johnny Hayes|\n",
      "|Katherine|  Morris| 56|46140 Michelle St...|     F|Katherine Morris|\n",
      "| Samantha|     Kim| 52|263 Harold Grove ...|     F|    Samantha Kim|\n",
      "|   Teresa|  Vargas| 25|26365 Coleman Par...|     F|   Teresa Vargas|\n",
      "|  Anthony|   Meyer| 21|370 Petty Grove, ...|     F|   Anthony Meyer|\n",
      "| Margaret|  Austin| 62|06839 Kathryn Tra...|     F| Margaret Austin|\n",
      "|    Jorge|    Cruz| 29|32825 Powell Rive...|     F|      Jorge Cruz|\n",
      "|    Peter|   Bowen| 63|389 Carmen Keys, ...|     F|     Peter Bowen|\n",
      "|    Tammy|  Austin| 57|96681 Tammy Rue, ...|     M|    Tammy Austin|\n",
      "|    Emily|  Butler| 41|0980 Stephanie Hi...|     M|    Emily Butler|\n",
      "|    Craig|   Ramos| 26|0305 Matthew Exte...|     M|     Craig Ramos|\n",
      "|   Laurie|Williams| 53|01156 Nicole Cent...|     F| Laurie Williams|\n",
      "| Brittany| Marquez| 60|249 David View, T...|     F|Brittany Marquez|\n",
      "|    Scott|    Lamb| 25|Unit 8739 Box 337...|     M|      Scott Lamb|\n",
      "|   Austin|  Kramer| 24|53854 Angela Isla...|     M|   Austin Kramer|\n",
      "|  Richard| Russell| 28|15663 Adkins Rive...|     F| Richard Russell|\n",
      "| Jennifer|   Evans| 52|87953 Michaela Ke...|     F|  Jennifer Evans|\n",
      "+---------+--------+---+--------------------+------+----------------+\n",
      "only showing top 20 rows\n",
      "\n"
     ]
    }
   ],
   "source": [
    "dfx4=ex_data.withColumn('Full_name',concat_ws(' ',ex_data.FName,col('LName')))\n",
    "dfx4.show()"
   ]
  },
  {
   "cell_type": "code",
   "execution_count": null,
   "id": "41dcbd21-c0ac-4765-9420-a330a8a8635a",
   "metadata": {},
   "outputs": [],
   "source": []
  },
  {
   "cell_type": "code",
   "execution_count": 110,
   "id": "eb1cc12c-3901-4cbe-a013-7083e256c2b4",
   "metadata": {},
   "outputs": [
    {
     "name": "stdout",
     "output_type": "stream",
     "text": [
      "+--------+---------+---+--------------------+------+\n",
      "|   FName|    LName|Age|             Address|Gender|\n",
      "+--------+---------+---+--------------------+------+\n",
      "|    Luis|    Hicks| 19|2929 Katherine Ga...|     M|\n",
      "| Anthony|    Meyer| 21|370 Petty Grove, ...|     F|\n",
      "|   Scott|  Stewart| 21|26387 Owens Pike,...|     F|\n",
      "|  Daniel|     Berg| 23|5076 Barrera Prai...|     F|\n",
      "|  Edward|      Lee| 24|53445 Taylor Ridg...|     M|\n",
      "|  Austin|   Kramer| 24|53854 Angela Isla...|     M|\n",
      "| Whitney|   Howard| 24|12100 John Hills ...|     F|\n",
      "|  Teresa|   Vargas| 25|26365 Coleman Par...|     F|\n",
      "|   Scott|     Lamb| 25|Unit 8739 Box 337...|     M|\n",
      "|Danielle|   Miller| 26|667 Denise Viaduc...|     F|\n",
      "|   Craig|    Ramos| 26|0305 Matthew Exte...|     M|\n",
      "|Brittany|      Ray| 28|977 Williams Via,...|     M|\n",
      "| Richard|  Russell| 28|15663 Adkins Rive...|     F|\n",
      "|   Jorge|     Cruz| 29|32825 Powell Rive...|     F|\n",
      "| Raymond|   Murray| 30|44344 Daniel Lane...|     F|\n",
      "|  Nathan|     Rose| 31|331 George Underp...|     F|\n",
      "|   Bryan| Williams| 31|1988 Johnson Hill...|     M|\n",
      "|  Martin| Williams| 31|25099 Jacob Forge...|     F|\n",
      "| Ricardo|Hendricks| 33|08314 Gill Groves...|     M|\n",
      "|   Scott| Gonzalez| 33|7665 Williams Vis...|     F|\n",
      "+--------+---------+---+--------------------+------+\n",
      "only showing top 20 rows\n",
      "\n"
     ]
    }
   ],
   "source": [
    "ex_data.sort('age').show()"
   ]
  },
  {
   "cell_type": "code",
   "execution_count": 116,
   "id": "6c472743-ccda-4742-a4bf-336c6ad8fabe",
   "metadata": {},
   "outputs": [
    {
     "name": "stdout",
     "output_type": "stream",
     "text": [
      "+------+------------------+\n",
      "|Gender|          avg(Age)|\n",
      "+------+------------------+\n",
      "|     F| 39.73076923076923|\n",
      "|     M|37.583333333333336|\n",
      "+------+------------------+\n",
      "\n"
     ]
    }
   ],
   "source": [
    "ex1=ex_data.groupby('Gender').avg()\n",
    "ex1.show()"
   ]
  },
  {
   "cell_type": "code",
   "execution_count": 117,
   "id": "6e38dc09-c328-468a-a7a7-012da4378550",
   "metadata": {},
   "outputs": [
    {
     "name": "stdout",
     "output_type": "stream",
     "text": [
      "+------+------------------+\n",
      "|Gender|       average_age|\n",
      "+------+------------------+\n",
      "|     F| 39.73076923076923|\n",
      "|     M|37.583333333333336|\n",
      "+------+------------------+\n",
      "\n"
     ]
    }
   ],
   "source": [
    "ex2=ex_data.groupby('Gender').agg(fn.avg('Age').alias('average_age'))\n",
    "ex2.show()"
   ]
  },
  {
   "cell_type": "code",
   "execution_count": 118,
   "id": "9560844a-515d-4f8f-aff4-20e2b65916aa",
   "metadata": {},
   "outputs": [
    {
     "name": "stdout",
     "output_type": "stream",
     "text": [
      "+--------------------+\n",
      "|             Address|\n",
      "+--------------------+\n",
      "|5589 Long Ways, W...|\n",
      "|26365 Coleman Par...|\n",
      "|370 Petty Grove, ...|\n",
      "|32825 Powell Rive...|\n",
      "|0305 Matthew Exte...|\n",
      "|Unit 8739 Box 337...|\n",
      "|53854 Angela Isla...|\n",
      "|15663 Adkins Rive...|\n",
      "|12100 John Hills ...|\n",
      "|25099 Jacob Forge...|\n",
      "|7665 Williams Vis...|\n",
      "|5076 Barrera Prai...|\n",
      "|331 George Underp...|\n",
      "|08314 Gill Groves...|\n",
      "|2929 Katherine Ga...|\n",
      "|26387 Owens Pike,...|\n",
      "|53445 Taylor Ridg...|\n",
      "|1988 Johnson Hill...|\n",
      "|44344 Daniel Lane...|\n",
      "|977 Williams Via,...|\n",
      "+--------------------+\n",
      "only showing top 20 rows\n",
      "\n"
     ]
    }
   ],
   "source": [
    "ex3=ex_data.select('Address')\n",
    "ex4=ex3.where(col('age')<35)\n",
    "ex4.show()"
   ]
  },
  {
   "cell_type": "code",
   "execution_count": 128,
   "id": "67942a1d-6e54-48ae-adf6-343939a3057c",
   "metadata": {},
   "outputs": [
    {
     "name": "stdout",
     "output_type": "stream",
     "text": [
      "+--------------------+\n",
      "|             Address|\n",
      "+--------------------+\n",
      "|207 Santana Forge...|\n",
      "|25099 Jacob Forge...|\n",
      "+--------------------+\n",
      "\n"
     ]
    }
   ],
   "source": [
    "ex5=ex_data.select('Address').filter(col('Address').like('%Forge%'))\n",
    "ex5.show()"
   ]
  },
  {
   "cell_type": "code",
   "execution_count": null,
   "id": "ffaddee3-2487-4931-8b20-88c66aaf28a6",
   "metadata": {},
   "outputs": [],
   "source": []
  }
 ],
 "metadata": {
  "kernelspec": {
   "display_name": "Python 3 (ipykernel)",
   "language": "python",
   "name": "python3"
  },
  "language_info": {
   "codemirror_mode": {
    "name": "ipython",
    "version": 3
   },
   "file_extension": ".py",
   "mimetype": "text/x-python",
   "name": "python",
   "nbconvert_exporter": "python",
   "pygments_lexer": "ipython3",
   "version": "3.12.7"
  }
 },
 "nbformat": 4,
 "nbformat_minor": 5
}
