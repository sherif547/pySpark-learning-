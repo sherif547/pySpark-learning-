{
 "cells": [
  {
   "cell_type": "code",
   "execution_count": 102,
   "id": "14228d29-c53a-4950-a4c2-13feb15d01c6",
   "metadata": {},
   "outputs": [
    {
     "data": {
      "text/html": [
       "<style>pre { white-space: pre !important; }</style>"
      ],
      "text/plain": [
       "<IPython.core.display.HTML object>"
      ]
     },
     "metadata": {},
     "output_type": "display_data"
    }
   ],
   "source": [
    "from IPython.display import display, HTML\n",
    "display(HTML(\"<style>pre { white-space: pre !important; }</style>\"))"
   ]
  },
  {
   "cell_type": "code",
   "execution_count": 1,
   "id": "5ed8529c-a276-4f07-a7e6-6b781d5ce17f",
   "metadata": {},
   "outputs": [],
   "source": [
    "import findspark\n",
    "findspark.init()\n"
   ]
  },
  {
   "cell_type": "code",
   "execution_count": 2,
   "id": "86afce60-585f-413b-aae9-e5567e713dc0",
   "metadata": {},
   "outputs": [],
   "source": [
    "from pyspark.sql import SparkSession\n"
   ]
  },
  {
   "cell_type": "code",
   "execution_count": 3,
   "id": "fd250095-eb16-4c66-8416-d3224fe46011",
   "metadata": {},
   "outputs": [
    {
     "name": "stderr",
     "output_type": "stream",
     "text": [
      "25/03/20 15:15:47 WARN Utils: Your hostname, sherif-Virtual-Machine resolves to a loopback address: 127.0.1.1; using 172.29.81.158 instead (on interface eth0)\n",
      "25/03/20 15:15:47 WARN Utils: Set SPARK_LOCAL_IP if you need to bind to another address\n",
      "Setting default log level to \"WARN\".\n",
      "To adjust logging level use sc.setLogLevel(newLevel). For SparkR, use setLogLevel(newLevel).\n",
      "25/03/20 15:15:48 WARN NativeCodeLoader: Unable to load native-hadoop library for your platform... using builtin-java classes where applicable\n"
     ]
    }
   ],
   "source": [
    "spark=SparkSession.builder.getOrCreate()"
   ]
  },
  {
   "cell_type": "code",
   "execution_count": 4,
   "id": "abd6581d-6b57-4d8f-8d00-dbc631bbde6b",
   "metadata": {},
   "outputs": [
    {
     "data": {
      "text/html": [
       "\n",
       "            <div>\n",
       "                <p><b>SparkSession - in-memory</b></p>\n",
       "                \n",
       "        <div>\n",
       "            <p><b>SparkContext</b></p>\n",
       "\n",
       "            <p><a href=\"http://sherif-Virtual-Machine.mshome.net:4040\">Spark UI</a></p>\n",
       "\n",
       "            <dl>\n",
       "              <dt>Version</dt>\n",
       "                <dd><code>v3.5.5</code></dd>\n",
       "              <dt>Master</dt>\n",
       "                <dd><code>local[*]</code></dd>\n",
       "              <dt>AppName</dt>\n",
       "                <dd><code>pyspark-shell</code></dd>\n",
       "            </dl>\n",
       "        </div>\n",
       "        \n",
       "            </div>\n",
       "        "
      ],
      "text/plain": [
       "<pyspark.sql.session.SparkSession at 0x75329806b080>"
      ]
     },
     "execution_count": 4,
     "metadata": {},
     "output_type": "execute_result"
    }
   ],
   "source": [
    "spark"
   ]
  },
  {
   "cell_type": "code",
   "execution_count": 6,
   "id": "7e88e872-0a1c-4dc7-82a1-0bd2f28a00dc",
   "metadata": {},
   "outputs": [],
   "source": [
    "sc=spark.sparkContext"
   ]
  },
  {
   "cell_type": "code",
   "execution_count": 7,
   "id": "5c301782-658a-4ea9-8dab-fc709f3f2d7b",
   "metadata": {},
   "outputs": [],
   "source": [
    "from pyspark.sql.functions import *"
   ]
  },
  {
   "cell_type": "code",
   "execution_count": 8,
   "id": "34e759e5-1f89-4d66-8f61-9d0e865f0e21",
   "metadata": {},
   "outputs": [],
   "source": [
    "from pyspark.sql.types import *"
   ]
  },
  {
   "cell_type": "code",
   "execution_count": 16,
   "id": "d75fc0f5-69ef-426c-a5ef-9bf54316dd21",
   "metadata": {},
   "outputs": [],
   "source": [
    "my_schema = StructType([\n",
    "    StructField('FName', StringType(), False),  # First Name (String, Not Nullable)\n",
    "    StructField('LName', StringType(), True),    # Last Name (String, Nullable)\n",
    "    StructField('Age', IntegerType(), False),   # Age (Integer, Not Nullable)\n",
    "    StructField('Address', StringType(), False),# Address (String, Not Nullable)\n",
    "    StructField('Gender', StringType(), False)  # Gender (String, Not Nullable)\n",
    "])"
   ]
  },
  {
   "cell_type": "code",
   "execution_count": 17,
   "id": "fba8d26f-8465-4460-bb4d-e8756ff3f872",
   "metadata": {},
   "outputs": [],
   "source": [
    "from faker import Faker\n",
    "fake=Faker()\n",
    "\n",
    "data=[]\n",
    "\n",
    "for _ in range(50):  #create 50 sample of th data\n",
    "    first_name=fake.first_name()\n",
    "    last_name=fake.last_name()\n",
    "    age=fake.random_int(min=18,max=65) ## create random age between 18 and 65\n",
    "    address=fake.address().replace('\\n',', ') ## replace new line with comma\n",
    "    gender=fake.random_element(elements=('M','F'))\n",
    "\n",
    "    data.append((first_name,last_name,age,address,gender))"
   ]
  },
  {
   "cell_type": "code",
   "execution_count": 18,
   "id": "2ffe9d41-69f7-49ee-9020-042490e17581",
   "metadata": {},
   "outputs": [],
   "source": [
    "ex_data=spark.createDataFrame(data,my_schema)"
   ]
  },
  {
   "cell_type": "code",
   "execution_count": 20,
   "id": "abc56187-3ae1-4d54-8665-a1f60009bc00",
   "metadata": {},
   "outputs": [
    {
     "name": "stdout",
     "output_type": "stream",
     "text": [
      "+--------+---------+---+---------------------------------------------------+------+\n",
      "|FName   |LName    |Age|Address                                            |Gender|\n",
      "+--------+---------+---+---------------------------------------------------+------+\n",
      "|Laura   |Rodriguez|36 |7292 Judy Lodge Suite 999, Lake Shawnland, ME 90715|M     |\n",
      "|Patricia|Gomez    |48 |028 Lauren Lane Suite 386, North Brandon, SD 07741 |M     |\n",
      "|Kathleen|Odom     |27 |99831 Lee Walk, Lake Danielstad, UT 11777          |F     |\n",
      "|Nancy   |Grant    |31 |18454 Mary Fort, Caseyburgh, MA 30110              |F     |\n",
      "|Oscar   |Clark    |19 |5959 Logan Circles, Kristenstad, MA 46428          |F     |\n",
      "+--------+---------+---+---------------------------------------------------+------+\n",
      "only showing top 5 rows\n",
      "\n"
     ]
    }
   ],
   "source": [
    "ex_data.show(5,truncate=False)"
   ]
  },
  {
   "cell_type": "code",
   "execution_count": 26,
   "id": "f30b8126-9c3b-4011-9a52-c0efa4a9bf69",
   "metadata": {},
   "outputs": [
    {
     "name": "stdout",
     "output_type": "stream",
     "text": [
      "+--------+---------+---+--------------------+------+\n",
      "|   FName|    LName|Age|             Address|Gender|\n",
      "+--------+---------+---+--------------------+------+\n",
      "|Veronica|Frederick| 41|36193 Tracy Club ...|     F|\n",
      "|   Tracy| Jennings| 61|81448 Kevin Ville...|     F|\n",
      "|    Tina| Lawrence| 20|720 Barnes Vista ...|     F|\n",
      "+--------+---------+---+--------------------+------+\n",
      "only showing top 3 rows\n",
      "\n"
     ]
    }
   ],
   "source": [
    "ex1=ex_data.sort(desc('FName'))\n",
    "ex1.show(3)"
   ]
  },
  {
   "cell_type": "code",
   "execution_count": 29,
   "id": "8cf721a1-a3bd-4b3d-bf6b-f36040332c5d",
   "metadata": {},
   "outputs": [
    {
     "name": "stdout",
     "output_type": "stream",
     "text": [
      "+--------+---------+---+--------------------+------+\n",
      "|   FName|    LName|Age|             Address|Gender|\n",
      "+--------+---------+---+--------------------+------+\n",
      "|Veronica|Frederick| 41|36193 Tracy Club ...|     F|\n",
      "|   Tracy| Jennings| 61|81448 Kevin Ville...|     F|\n",
      "|    Tina| Lawrence| 20|720 Barnes Vista ...|     F|\n",
      "+--------+---------+---+--------------------+------+\n",
      "only showing top 3 rows\n",
      "\n"
     ]
    }
   ],
   "source": [
    "ex1=ex_data.sort('FName',ascending=False)\n",
    "ex1.show(3)"
   ]
  },
  {
   "cell_type": "code",
   "execution_count": null,
   "id": "a9cc73b0-9ec7-4ac1-8a69-6ef1eaf0175b",
   "metadata": {},
   "outputs": [],
   "source": [
    "\n"
   ]
  },
  {
   "cell_type": "markdown",
   "id": "f9a8a1a1-e99d-41ae-a4e7-33b703c23b5f",
   "metadata": {},
   "source": [
    "### Read csv file and deal with null values"
   ]
  },
  {
   "cell_type": "code",
   "execution_count": 34,
   "id": "d638212a-2f49-45bf-9d48-057eff250f56",
   "metadata": {},
   "outputs": [
    {
     "name": "stdout",
     "output_type": "stream",
     "text": [
      "+----+-----+-----+\n",
      "|  Id| Name|Sales|\n",
      "+----+-----+-----+\n",
      "|emp1| John| NULL|\n",
      "|emp2| NULL| NULL|\n",
      "|emp3| NULL|345.0|\n",
      "|emp4|Cindy|456.0|\n",
      "+----+-----+-----+\n",
      "\n"
     ]
    }
   ],
   "source": [
    "ndata=spark.read.csv('/home/sherif/Downloads/data/NullData.csv',header=True,inferSchema=True)\n",
    "ndata.show()"
   ]
  },
  {
   "cell_type": "code",
   "execution_count": 35,
   "id": "b1e264e5-f6dd-4d7b-bc85-65da171e4092",
   "metadata": {},
   "outputs": [
    {
     "name": "stdout",
     "output_type": "stream",
     "text": [
      "root\n",
      " |-- Id: string (nullable = true)\n",
      " |-- Name: string (nullable = true)\n",
      " |-- Sales: double (nullable = true)\n",
      "\n"
     ]
    }
   ],
   "source": [
    "ndata.printSchema()"
   ]
  },
  {
   "cell_type": "markdown",
   "id": "7c022509-bb10-4154-9165-7655914fb8ad",
   "metadata": {},
   "source": [
    "### Drop null values"
   ]
  },
  {
   "cell_type": "code",
   "execution_count": 43,
   "id": "0384c9a7-e181-4d1c-886a-bdab9c19d6f9",
   "metadata": {},
   "outputs": [
    {
     "name": "stdout",
     "output_type": "stream",
     "text": [
      "+----+-----+-----+\n",
      "|  Id| Name|Sales|\n",
      "+----+-----+-----+\n",
      "|emp4|Cindy|456.0|\n",
      "+----+-----+-----+\n",
      "\n"
     ]
    }
   ],
   "source": [
    "n1=ndata.na.drop()\n",
    "n1.show()"
   ]
  },
  {
   "cell_type": "code",
   "execution_count": null,
   "id": "f3973d45-e2a9-4512-ace6-0a06f8407997",
   "metadata": {},
   "outputs": [],
   "source": []
  },
  {
   "cell_type": "code",
   "execution_count": 48,
   "id": "f3919ecc-4b67-4521-a70f-d36c3afedb73",
   "metadata": {},
   "outputs": [
    {
     "name": "stdout",
     "output_type": "stream",
     "text": [
      "+----+-----+-----+\n",
      "|  Id| Name|Sales|\n",
      "+----+-----+-----+\n",
      "|emp1| John| NULL|\n",
      "|emp2| NULL| NULL|\n",
      "|emp3| NULL|345.0|\n",
      "|emp4|Cindy|456.0|\n",
      "+----+-----+-----+\n",
      "\n"
     ]
    }
   ],
   "source": [
    "## the default is drop all rows if any column is null\n",
    "n2=ndata.na.drop(how='all')\n",
    "n2.show()"
   ]
  },
  {
   "cell_type": "code",
   "execution_count": null,
   "id": "f7067de0-025b-4d8e-b001-9db5d5fe0552",
   "metadata": {},
   "outputs": [],
   "source": []
  },
  {
   "cell_type": "code",
   "execution_count": 49,
   "id": "7ef9f4cc-ee62-4213-ad56-f401f9263e25",
   "metadata": {},
   "outputs": [
    {
     "name": "stdout",
     "output_type": "stream",
     "text": [
      "+----+-----+-----+\n",
      "|  Id| Name|Sales|\n",
      "+----+-----+-----+\n",
      "|emp1| John| NULL|\n",
      "|emp3| NULL|345.0|\n",
      "|emp4|Cindy|456.0|\n",
      "+----+-----+-----+\n",
      "\n"
     ]
    }
   ],
   "source": [
    "#if 2 column is not null don't drop else drop\n",
    "n3=ndata.na.drop(thresh=2)\n",
    "n3.show()"
   ]
  },
  {
   "cell_type": "code",
   "execution_count": null,
   "id": "a4009897-9429-4c7b-a13f-585f5a68a6a5",
   "metadata": {},
   "outputs": [],
   "source": []
  },
  {
   "cell_type": "code",
   "execution_count": 51,
   "id": "5e4818ff-4761-4bf2-956c-a151e8415406",
   "metadata": {},
   "outputs": [
    {
     "name": "stdout",
     "output_type": "stream",
     "text": [
      "+----+-----+-----+\n",
      "|  Id| Name|Sales|\n",
      "+----+-----+-----+\n",
      "|emp1| John| NULL|\n",
      "|emp3| NULL|345.0|\n",
      "|emp4|Cindy|456.0|\n",
      "+----+-----+-----+\n",
      "\n"
     ]
    }
   ],
   "source": [
    "## specific columns \n",
    "n4=ndata.na.drop(subset=['Name','Sales'],how='all')\n",
    "n4.show()"
   ]
  },
  {
   "cell_type": "code",
   "execution_count": null,
   "id": "9da5abeb-f55a-47d8-83fa-a15828354425",
   "metadata": {},
   "outputs": [],
   "source": []
  },
  {
   "cell_type": "markdown",
   "id": "d3aa2e8b-b33d-4b31-9afa-5b425af267b0",
   "metadata": {},
   "source": [
    "### fill na"
   ]
  },
  {
   "cell_type": "code",
   "execution_count": 52,
   "id": "4d3cf1a0-3870-4adf-acd5-2ee89563b5b4",
   "metadata": {},
   "outputs": [
    {
     "name": "stdout",
     "output_type": "stream",
     "text": [
      "+----+--------+-----+\n",
      "|  Id|    Name|Sales|\n",
      "+----+--------+-----+\n",
      "|emp1|    John| NULL|\n",
      "|emp2|new name| NULL|\n",
      "|emp3|new name|345.0|\n",
      "|emp4|   Cindy|456.0|\n",
      "+----+--------+-----+\n",
      "\n"
     ]
    }
   ],
   "source": [
    "\n",
    "n5=ndata.na.fill('new name')\n",
    "n5.show()"
   ]
  },
  {
   "cell_type": "code",
   "execution_count": 53,
   "id": "d545153c-8b55-40e6-910e-bf0dc60a0cb2",
   "metadata": {},
   "outputs": [
    {
     "name": "stdout",
     "output_type": "stream",
     "text": [
      "+----+-----+-----+\n",
      "|  Id| Name|Sales|\n",
      "+----+-----+-----+\n",
      "|emp1| John|  0.0|\n",
      "|emp2| NULL|  0.0|\n",
      "|emp3| NULL|345.0|\n",
      "|emp4|Cindy|456.0|\n",
      "+----+-----+-----+\n",
      "\n"
     ]
    }
   ],
   "source": [
    "\n",
    "n6=ndata.na.fill(0)\n",
    "n6.show()"
   ]
  },
  {
   "cell_type": "markdown",
   "id": "a81c5e08-0b88-49f5-bb3c-a106276d0eaf",
   "metadata": {},
   "source": [
    "``` last examples it depends on schema to fill specific columns based on cou\\lumns data types now we can use subset to modify specific columns manaully ```"
   ]
  },
  {
   "cell_type": "code",
   "execution_count": 54,
   "id": "d1a120a8-d2f8-4e53-aa7a-188d7349b852",
   "metadata": {},
   "outputs": [
    {
     "name": "stdout",
     "output_type": "stream",
     "text": [
      "+----+-----+-----+\n",
      "|  Id| Name|Sales|\n",
      "+----+-----+-----+\n",
      "|emp1| John| NULL|\n",
      "|emp2|  new| NULL|\n",
      "|emp3|  new|345.0|\n",
      "|emp4|Cindy|456.0|\n",
      "+----+-----+-----+\n",
      "\n"
     ]
    }
   ],
   "source": [
    "n7=ndata.na.fill('new',subset=['Name'])\n",
    "n7.show()"
   ]
  },
  {
   "cell_type": "markdown",
   "id": "7520cccd-2157-4b25-aff1-24a59f907788",
   "metadata": {},
   "source": [
    "### fill na with mean values"
   ]
  },
  {
   "cell_type": "code",
   "execution_count": 86,
   "id": "99374475-9c15-4682-86ac-fea1a8298b4b",
   "metadata": {},
   "outputs": [],
   "source": [
    "m1=ndata.select(mean(col('Sales')).alias('m')).collect()\n",
    "m=m1[0][0]"
   ]
  },
  {
   "cell_type": "code",
   "execution_count": 87,
   "id": "e27f322d-f947-493c-bb52-43fa756bd9db",
   "metadata": {},
   "outputs": [
    {
     "data": {
      "text/plain": [
       "400.5"
      ]
     },
     "execution_count": 87,
     "metadata": {},
     "output_type": "execute_result"
    }
   ],
   "source": [
    "n1=ndata.select(mean(ndata['Sales']).alias('mean_Sales')).collect()\n",
    "n1[0][0]"
   ]
  },
  {
   "cell_type": "code",
   "execution_count": 89,
   "id": "d4a82a35-5d0d-4c1e-bf95-c092231ee1d3",
   "metadata": {},
   "outputs": [
    {
     "name": "stdout",
     "output_type": "stream",
     "text": [
      "+----+-----+-----+\n",
      "|  Id| Name|Sales|\n",
      "+----+-----+-----+\n",
      "|emp1| John|400.5|\n",
      "|emp2| NULL|400.5|\n",
      "|emp3| NULL|345.0|\n",
      "|emp4|Cindy|456.0|\n",
      "+----+-----+-----+\n",
      "\n"
     ]
    }
   ],
   "source": [
    "fill_mean=ndata.fillna(m,subset='Sales')\n",
    "fill_mean.show()"
   ]
  },
  {
   "cell_type": "code",
   "execution_count": null,
   "id": "cc10ad8a-e91d-43cc-9ea8-03ea07422a7a",
   "metadata": {},
   "outputs": [],
   "source": []
  },
  {
   "cell_type": "markdown",
   "id": "ba17fe77-153d-47f7-8989-4a10492320c3",
   "metadata": {},
   "source": [
    "### read csv file and use sampling ratio to reduce the waste time"
   ]
  },
  {
   "cell_type": "code",
   "execution_count": 103,
   "id": "6c820984-60e3-4a49-b969-a58d6ecd3dec",
   "metadata": {},
   "outputs": [],
   "source": [
    "df=spark.read.csv('/home/sherif/Downloads/data/sf-fire-calls.csv',header=True,\n",
    "                  inferSchema=True,\n",
    "                  samplingRatio=0.001)"
   ]
  },
  {
   "cell_type": "code",
   "execution_count": 104,
   "id": "c1d26980-e1ba-4b56-9dd7-44606295ec90",
   "metadata": {},
   "outputs": [
    {
     "name": "stdout",
     "output_type": "stream",
     "text": [
      "root\n",
      " |-- CallNumber: integer (nullable = true)\n",
      " |-- UnitID: string (nullable = true)\n",
      " |-- IncidentNumber: integer (nullable = true)\n",
      " |-- CallType: string (nullable = true)\n",
      " |-- CallDate: string (nullable = true)\n",
      " |-- WatchDate: string (nullable = true)\n",
      " |-- CallFinalDisposition: string (nullable = true)\n",
      " |-- AvailableDtTm: string (nullable = true)\n",
      " |-- Address: string (nullable = true)\n",
      " |-- City: string (nullable = true)\n",
      " |-- Zipcode: integer (nullable = true)\n",
      " |-- Battalion: string (nullable = true)\n",
      " |-- StationArea: string (nullable = true)\n",
      " |-- Box: integer (nullable = true)\n",
      " |-- OriginalPriority: string (nullable = true)\n",
      " |-- Priority: string (nullable = true)\n",
      " |-- FinalPriority: integer (nullable = true)\n",
      " |-- ALSUnit: boolean (nullable = true)\n",
      " |-- CallTypeGroup: string (nullable = true)\n",
      " |-- NumAlarms: integer (nullable = true)\n",
      " |-- UnitType: string (nullable = true)\n",
      " |-- UnitSequenceInCallDispatch: integer (nullable = true)\n",
      " |-- FirePreventionDistrict: string (nullable = true)\n",
      " |-- SupervisorDistrict: string (nullable = true)\n",
      " |-- Neighborhood: string (nullable = true)\n",
      " |-- Location: string (nullable = true)\n",
      " |-- RowID: string (nullable = true)\n",
      " |-- Delay: double (nullable = true)\n",
      "\n"
     ]
    }
   ],
   "source": [
    "df.printSchema()"
   ]
  },
  {
   "cell_type": "code",
   "execution_count": 106,
   "id": "7b97517e-cd63-44fe-a32f-c3b10b23279b",
   "metadata": {},
   "outputs": [
    {
     "name": "stdout",
     "output_type": "stream",
     "text": [
      "+----------+------+--------------+----------------+----------+----------+--------------------+--------------------+--------------------+----+-------+---------+-----------+----+----------------+--------+-------------+-------+-------------+---------+--------+--------------------------+----------------------+------------------+--------------------+--------------------+-------------+---------+\n",
      "|CallNumber|UnitID|IncidentNumber|        CallType|  CallDate| WatchDate|CallFinalDisposition|       AvailableDtTm|             Address|City|Zipcode|Battalion|StationArea| Box|OriginalPriority|Priority|FinalPriority|ALSUnit|CallTypeGroup|NumAlarms|UnitType|UnitSequenceInCallDispatch|FirePreventionDistrict|SupervisorDistrict|        Neighborhood|            Location|        RowID|    Delay|\n",
      "+----------+------+--------------+----------------+----------+----------+--------------------+--------------------+--------------------+----+-------+---------+-----------+----+----------------+--------+-------------+-------+-------------+---------+--------+--------------------------+----------------------+------------------+--------------------+--------------------+-------------+---------+\n",
      "|  20110016|   T13|       2003235|  Structure Fire|01/11/2002|01/10/2002|               Other|01/11/2002 01:51:...|2000 Block of CAL...|  SF|  94109|      B04|         38|3362|               3|       3|            3|  false|         NULL|        1|   TRUCK|                         2|                     4|                 5|     Pacific Heights|(37.7895840679362...|020110016-T13|     2.95|\n",
      "|  20110022|   M17|       2003241|Medical Incident|01/11/2002|01/10/2002|               Other|01/11/2002 03:01:...|0 Block of SILVER...|  SF|  94124|      B10|         42|6495|               3|       3|            3|   true|         NULL|        1|   MEDIC|                         1|                    10|                10|Bayview Hunters P...|(37.7337623673897...|020110022-M17|      4.7|\n",
      "|  20110023|   M41|       2003242|Medical Incident|01/11/2002|01/10/2002|               Other|01/11/2002 02:39:...|MARKET ST/MCALLIS...|  SF|  94102|      B03|         01|1455|               3|       3|            3|   true|         NULL|        1|   MEDIC|                         2|                     3|                 6|          Tenderloin|(37.7811772186856...|020110023-M41|2.4333334|\n",
      "+----------+------+--------------+----------------+----------+----------+--------------------+--------------------+--------------------+----+-------+---------+-----------+----+----------------+--------+-------------+-------+-------------+---------+--------+--------------------------+----------------------+------------------+--------------------+--------------------+-------------+---------+\n",
      "only showing top 3 rows\n",
      "\n"
     ]
    }
   ],
   "source": [
    "df.show(3)"
   ]
  },
  {
   "cell_type": "code",
   "execution_count": 107,
   "id": "ece83858-58b1-4c52-90d1-f9d7a5ca6ccb",
   "metadata": {},
   "outputs": [],
   "source": [
    "description=df.describe()"
   ]
  },
  {
   "cell_type": "code",
   "execution_count": 108,
   "id": "528df9bf-5cb9-4b49-a977-65fb820fedf0",
   "metadata": {},
   "outputs": [
    {
     "name": "stdout",
     "output_type": "stream",
     "text": [
      "root\n",
      " |-- summary: string (nullable = true)\n",
      " |-- CallNumber: string (nullable = true)\n",
      " |-- UnitID: string (nullable = true)\n",
      " |-- IncidentNumber: string (nullable = true)\n",
      " |-- CallType: string (nullable = true)\n",
      " |-- CallDate: string (nullable = true)\n",
      " |-- WatchDate: string (nullable = true)\n",
      " |-- CallFinalDisposition: string (nullable = true)\n",
      " |-- AvailableDtTm: string (nullable = true)\n",
      " |-- Address: string (nullable = true)\n",
      " |-- City: string (nullable = true)\n",
      " |-- Zipcode: string (nullable = true)\n",
      " |-- Battalion: string (nullable = true)\n",
      " |-- StationArea: string (nullable = true)\n",
      " |-- Box: string (nullable = true)\n",
      " |-- OriginalPriority: string (nullable = true)\n",
      " |-- Priority: string (nullable = true)\n",
      " |-- FinalPriority: string (nullable = true)\n",
      " |-- CallTypeGroup: string (nullable = true)\n",
      " |-- NumAlarms: string (nullable = true)\n",
      " |-- UnitType: string (nullable = true)\n",
      " |-- UnitSequenceInCallDispatch: string (nullable = true)\n",
      " |-- FirePreventionDistrict: string (nullable = true)\n",
      " |-- SupervisorDistrict: string (nullable = true)\n",
      " |-- Neighborhood: string (nullable = true)\n",
      " |-- Location: string (nullable = true)\n",
      " |-- RowID: string (nullable = true)\n",
      " |-- Delay: string (nullable = true)\n",
      "\n"
     ]
    }
   ],
   "source": [
    "description.printSchema()"
   ]
  },
  {
   "cell_type": "code",
   "execution_count": 109,
   "id": "92a46dcb-0860-4fd6-9882-3fd58adf72ce",
   "metadata": {},
   "outputs": [
    {
     "name": "stderr",
     "output_type": "stream",
     "text": [
      "[Stage 77:===================>                                      (2 + 4) / 6]\r"
     ]
    },
    {
     "name": "stdout",
     "output_type": "stream",
     "text": [
      "+-------+--------------------+-----------------+-----------------+--------------------+----------+----------+--------------------+--------------------+--------------------+-----------+------------------+---------+------------------+------------------+------------------+------------------+------------------+--------------------+-------------------+--------+--------------------------+----------------------+------------------+--------------------+--------------------+-------------+-----------------+\n",
      "|summary|          CallNumber|           UnitID|   IncidentNumber|            CallType|  CallDate| WatchDate|CallFinalDisposition|       AvailableDtTm|             Address|       City|           Zipcode|Battalion|       StationArea|               Box|  OriginalPriority|          Priority|     FinalPriority|       CallTypeGroup|          NumAlarms|UnitType|UnitSequenceInCallDispatch|FirePreventionDistrict|SupervisorDistrict|        Neighborhood|            Location|        RowID|            Delay|\n",
      "+-------+--------------------+-----------------+-----------------+--------------------+----------+----------+--------------------+--------------------+--------------------+-----------+------------------+---------+------------------+------------------+------------------+------------------+------------------+--------------------+-------------------+--------+--------------------------+----------------------+------------------+--------------------+--------------------+-------------+-----------------+\n",
      "|  count|              175296|           175296|           175296|              175296|    175296|    175296|              175296|              173502|              175296|     175089|            175154|   175296|            175221|            175282|            174374|            175296|            175296|               75779|             175296|  175296|                    175295|                175296|            175296|              175296|              175296|       175296|           175296|\n",
      "|   mean|1.0023517638629518E8|75.09678410773658|9900785.635057274|                NULL|      NULL|      NULL|                NULL|                NULL|                NULL|       NULL| 94113.58601573472|     NULL| 18.08921735922151|   4090.2165596011|2.7605317888321927|2.7449383763374695| 2.792174379335524|                NULL| 1.0049858525009128|    NULL|        2.1280413018055278|    4.7602276974384035| 5.989141976365816|                NULL|                NULL|         NULL|3.892364154175012|\n",
      "| stddev| 5.396909283412619E7|12.81827412075359|5407019.524900535|                NULL|      NULL|      NULL|                NULL|                NULL|                NULL|       NULL|10.221869589799814|     NULL|14.463948601522226|2374.8822257149527|0.5070550169980567|0.5170575577556952|0.4057524753383215|                NULL|0.09811952680742109|    NULL|        2.0543838673391748|    2.9348933918215168| 2.721740428315211|                NULL|                NULL|         NULL|9.378286170882733|\n",
      "|    min|             1030128|               27|            30636|      Administrative|01/01/2001|01/01/2001|Against Medical A...|01/01/2001 01:28:...|0 Block of 0NB GG...|         BN|             94102|      B01|                01|               123|                 1|                 1|                 2|               Alarm|                  1| AIRPORT|                         1|                     1|                 1|Bayview Hunters P...|(37.6168823239251...|001030128-B04|      0.016666668|\n",
      "|    max|           183104004|              UU1|         18130302|Watercraft in Dis...|12/31/2017|12/31/2017|    Unable to Locate|12/31/2017 12:55:...|YOSEMITE AV/MENDE...|Yerba Buena|             94158|      B99|                A3|              9955|                 I|                 I|                 3|Potentially Life-...|                  5|   TRUCK|                        68|                  None|              None|    Western Addition|(37.8544643401172...|183104004-B01|          1844.55|\n",
      "+-------+--------------------+-----------------+-----------------+--------------------+----------+----------+--------------------+--------------------+--------------------+-----------+------------------+---------+------------------+------------------+------------------+------------------+------------------+--------------------+-------------------+--------+--------------------------+----------------------+------------------+--------------------+--------------------+-------------+-----------------+\n",
      "\n"
     ]
    },
    {
     "name": "stderr",
     "output_type": "stream",
     "text": [
      "                                                                                \r"
     ]
    }
   ],
   "source": [
    "description.show()"
   ]
  },
  {
   "cell_type": "code",
   "execution_count": null,
   "id": "996ccedb-c681-4b84-a128-e42fa44d4369",
   "metadata": {},
   "outputs": [],
   "source": []
  },
  {
   "cell_type": "code",
   "execution_count": null,
   "id": "c2a508af-1f15-471e-82c0-b6a5fe00e522",
   "metadata": {},
   "outputs": [],
   "source": []
  },
  {
   "cell_type": "code",
   "execution_count": null,
   "id": "1edcf73e-1525-48fa-b5cc-28012924ecbd",
   "metadata": {},
   "outputs": [],
   "source": []
  }
 ],
 "metadata": {
  "kernelspec": {
   "display_name": "Python 3 (ipykernel)",
   "language": "python",
   "name": "python3"
  },
  "language_info": {
   "codemirror_mode": {
    "name": "ipython",
    "version": 3
   },
   "file_extension": ".py",
   "mimetype": "text/x-python",
   "name": "python",
   "nbconvert_exporter": "python",
   "pygments_lexer": "ipython3",
   "version": "3.12.7"
  }
 },
 "nbformat": 4,
 "nbformat_minor": 5
}
